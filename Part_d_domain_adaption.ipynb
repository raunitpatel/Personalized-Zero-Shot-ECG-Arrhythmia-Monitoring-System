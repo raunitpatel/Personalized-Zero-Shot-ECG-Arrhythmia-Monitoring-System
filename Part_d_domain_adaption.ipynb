{
 "cells": [
  {
   "cell_type": "code",
   "execution_count": 1,
   "id": "45f7900e",
   "metadata": {
    "_cell_guid": "b1076dfc-b9ad-4769-8c92-a6c4dae69d19",
    "_uuid": "8f2839f25d086af736a60e9eeb907d3b93b6e0e5",
    "execution": {
     "iopub.execute_input": "2025-03-26T19:48:32.850483Z",
     "iopub.status.busy": "2025-03-26T19:48:32.850166Z",
     "iopub.status.idle": "2025-03-26T19:48:36.589525Z",
     "shell.execute_reply": "2025-03-26T19:48:36.588601Z"
    },
    "papermill": {
     "duration": 3.745717,
     "end_time": "2025-03-26T19:48:36.591178",
     "exception": false,
     "start_time": "2025-03-26T19:48:32.845461",
     "status": "completed"
    },
    "tags": []
   },
   "outputs": [],
   "source": [
    "import numpy as np \n",
    "import pandas as pd \n",
    "import os\n",
    "import pickle\n",
    "import sys\n",
    "import torch\n",
    "from torch import nn\n",
    "import scipy\n",
    "import torch.nn.functional as Func\n",
    "import warnings\n",
    "from tqdm import tqdm"
   ]
  },
  {
   "cell_type": "code",
   "execution_count": 2,
   "id": "26e90f72",
   "metadata": {
    "execution": {
     "iopub.execute_input": "2025-03-26T19:48:36.599289Z",
     "iopub.status.busy": "2025-03-26T19:48:36.598943Z",
     "iopub.status.idle": "2025-03-26T19:48:36.732528Z",
     "shell.execute_reply": "2025-03-26T19:48:36.731852Z"
    },
    "papermill": {
     "duration": 0.138892,
     "end_time": "2025-03-26T19:48:36.733950",
     "exception": false,
     "start_time": "2025-03-26T19:48:36.595058",
     "status": "completed"
    },
    "tags": []
   },
   "outputs": [],
   "source": [
    "sys.path.append(\"/kaggle/input/pytorch-sklearnn\")\n",
    "from pytorch_sklearn import NeuralNetwork\n",
    "from pytorch_sklearn.callbacks import WeightCheckpoint, Verbose, LossPlot, EarlyStopping, Callback, CallbackInfo\n",
    "from pytorch_sklearn.utils.func_utils import to_safe_tensor"
   ]
  },
  {
   "cell_type": "code",
   "execution_count": 3,
   "id": "b59e69f1",
   "metadata": {
    "execution": {
     "iopub.execute_input": "2025-03-26T19:48:36.741896Z",
     "iopub.status.busy": "2025-03-26T19:48:36.741610Z",
     "iopub.status.idle": "2025-03-26T19:48:36.744764Z",
     "shell.execute_reply": "2025-03-26T19:48:36.744125Z"
    },
    "papermill": {
     "duration": 0.008336,
     "end_time": "2025-03-26T19:48:36.745940",
     "exception": false,
     "start_time": "2025-03-26T19:48:36.737604",
     "status": "completed"
    },
    "tags": []
   },
   "outputs": [],
   "source": [
    "warnings.filterwarnings('ignore')"
   ]
  },
  {
   "cell_type": "code",
   "execution_count": 4,
   "id": "6c14abbc",
   "metadata": {
    "execution": {
     "iopub.execute_input": "2025-03-26T19:48:36.753096Z",
     "iopub.status.busy": "2025-03-26T19:48:36.752892Z",
     "iopub.status.idle": "2025-03-26T19:48:36.756005Z",
     "shell.execute_reply": "2025-03-26T19:48:36.755330Z"
    },
    "papermill": {
     "duration": 0.008005,
     "end_time": "2025-03-26T19:48:36.757226",
     "exception": false,
     "start_time": "2025-03-26T19:48:36.749221",
     "status": "completed"
    },
    "tags": []
   },
   "outputs": [],
   "source": [
    "def read_data(path):\n",
    "    with open(path, \"rb\") as f:\n",
    "        return pickle.load(f)"
   ]
  },
  {
   "cell_type": "code",
   "execution_count": 5,
   "id": "547cff2d",
   "metadata": {
    "execution": {
     "iopub.execute_input": "2025-03-26T19:48:36.764511Z",
     "iopub.status.busy": "2025-03-26T19:48:36.764266Z",
     "iopub.status.idle": "2025-03-26T19:48:36.772905Z",
     "shell.execute_reply": "2025-03-26T19:48:36.772366Z"
    },
    "papermill": {
     "duration": 0.013517,
     "end_time": "2025-03-26T19:48:36.774058",
     "exception": false,
     "start_time": "2025-03-26T19:48:36.760541",
     "status": "completed"
    },
    "tags": []
   },
   "outputs": [],
   "source": [
    "VALID_PATIENT_IDS_PATH = '/kaggle/input/arrythmia-valid-patient-ids/patient_ids.pkl'\n",
    "valid_patients = read_data(VALID_PATIENT_IDS_PATH)"
   ]
  },
  {
   "cell_type": "code",
   "execution_count": 6,
   "id": "2b1b9b10",
   "metadata": {
    "execution": {
     "iopub.execute_input": "2025-03-26T19:48:36.781240Z",
     "iopub.status.busy": "2025-03-26T19:48:36.781041Z",
     "iopub.status.idle": "2025-03-26T19:48:36.783898Z",
     "shell.execute_reply": "2025-03-26T19:48:36.783305Z"
    },
    "papermill": {
     "duration": 0.007673,
     "end_time": "2025-03-26T19:48:36.785028",
     "exception": false,
     "start_time": "2025-03-26T19:48:36.777355",
     "status": "completed"
    },
    "tags": []
   },
   "outputs": [],
   "source": [
    "DATASET_PATH = '/kaggle/input/arrythmia-dataset/dataset_training/dataset_beat_single_domain_adapted'\n",
    "TRIO_PATH = '/kaggle/input/arrythmia-dataset/dataset_training/dataset_beat_trios_domain_adapted'"
   ]
  },
  {
   "cell_type": "code",
   "execution_count": 7,
   "id": "a1eaf5c5",
   "metadata": {
    "execution": {
     "iopub.execute_input": "2025-03-26T19:48:36.792038Z",
     "iopub.status.busy": "2025-03-26T19:48:36.791833Z",
     "iopub.status.idle": "2025-03-26T19:48:36.794944Z",
     "shell.execute_reply": "2025-03-26T19:48:36.794349Z"
    },
    "papermill": {
     "duration": 0.007806,
     "end_time": "2025-03-26T19:48:36.796079",
     "exception": false,
     "start_time": "2025-03-26T19:48:36.788273",
     "status": "completed"
    },
    "tags": []
   },
   "outputs": [],
   "source": [
    "SAVE_PATH = '/kaggle/working/'\n",
    "save_dir = os.path.join(SAVE_PATH, \"nets\")\n",
    "os.makedirs(save_dir, exist_ok=True)"
   ]
  },
  {
   "cell_type": "code",
   "execution_count": 8,
   "id": "94a1d40c",
   "metadata": {
    "execution": {
     "iopub.execute_input": "2025-03-26T19:48:36.803239Z",
     "iopub.status.busy": "2025-03-26T19:48:36.803041Z",
     "iopub.status.idle": "2025-03-26T19:48:36.811016Z",
     "shell.execute_reply": "2025-03-26T19:48:36.810365Z"
    },
    "papermill": {
     "duration": 0.012842,
     "end_time": "2025-03-26T19:48:36.812236",
     "exception": false,
     "start_time": "2025-03-26T19:48:36.799394",
     "status": "completed"
    },
    "tags": []
   },
   "outputs": [],
   "source": [
    "def load_dataset(patient_id, PATH):\n",
    "    \"\"\" \n",
    "    Reads the pickled ECG dataset from the given path for the given patient.\n",
    "    The file name must be \"patient_<patient_id>_dataset.pkl\".\n",
    "    \"\"\"\n",
    "    with open(os.path.join(PATH, f\"patient_{patient_id}_dataset.pkl\"), \"rb\") as f:\n",
    "        return pickle.load(f)\n",
    "    \n",
    "def dataset_to_tensors(dataset):\n",
    "    \"\"\"\n",
    "    Converts the given dataset to torch tensors in appropriate data types and shapes.\n",
    "    \"\"\"\n",
    "    dataset = dataset.copy()\n",
    "    train_X, train_y, train_ids, val_X, val_y, val_ids, test_X, test_y, test_ids = dataset.values()\n",
    "    dataset[\"train_X\"] = torch.Tensor(train_X).float().reshape(-1, 1, train_X.shape[1])\n",
    "    dataset[\"train_y\"] = torch.Tensor(train_y).long()\n",
    "    dataset[\"train_ids\"] = torch.Tensor(train_ids).long()\n",
    "    dataset[\"val_X\"] = torch.Tensor(val_X).float().reshape(-1, 1, val_X.shape[1])\n",
    "    dataset[\"val_y\"] = torch.Tensor(val_y).long()\n",
    "    dataset[\"val_ids\"] = torch.Tensor(val_ids).long()\n",
    "    dataset[\"test_X\"] = torch.Tensor(test_X).float().reshape(-1, 1, test_X.shape[1])\n",
    "    dataset[\"test_y\"] = torch.Tensor(test_y).long()\n",
    "    dataset[\"test_ids\"] = torch.Tensor(test_ids).long()\n",
    "    return dataset\n",
    "\n",
    "def add_dataset(patient_id, dataset, DATASET_PATH):\n",
    "    \"\"\"\n",
    "    Adds another dataset to an already existing one, increasing the number of channels.\n",
    "    \"\"\"\n",
    "    dataset = dataset.copy()\n",
    "    dataset_other = load_dataset(patient_id, DATASET_PATH)\n",
    "    dataset_other = dataset_to_tensors(dataset_other)\n",
    "    \n",
    "    assert torch.equal(dataset[\"train_y\"], dataset_other[\"train_y\"]), \"Training ground truths are different. Possibly shuffled differently.\"\n",
    "    assert torch.equal(dataset[\"val_y\"], dataset_other[\"val_y\"]), \"Validation ground truths are different. Possibly shuffled differently.\"\n",
    "    assert torch.equal(dataset[\"test_y\"], dataset_other[\"test_y\"]), \"Test ground truths are different. Possibly shuffled differently.\"\n",
    "    \n",
    "    train_X, train_y, train_ids, val_X, val_y, val_ids, test_X, test_y, test_ids = dataset.values()\n",
    "    train_other_X, _, _, val_other_X, _, _, test_other_X, _, _ = dataset_other.values()\n",
    "    dataset[\"train_X\"] = torch.cat((train_X, train_other_X), dim=1)\n",
    "    dataset[\"val_X\"] = torch.cat((val_X, val_other_X), dim=1)\n",
    "    dataset[\"test_X\"] = torch.cat((test_X, test_other_X), dim=1)\n",
    "    return dataset\n",
    "\n",
    "def load_N_channel_dataset(patient_id, DEFAULT_PATH, *PATHS):\n",
    "    \"\"\"\n",
    "    Loads the ECG dataset at the given path(s) for the given patient. Each dataset will be added as a new\n",
    "    channel in the given order.\n",
    "    \"\"\"\n",
    "    default_dataset = load_dataset(patient_id, DEFAULT_PATH)\n",
    "    default_dataset = dataset_to_tensors(default_dataset)\n",
    "    for PATH in PATHS:\n",
    "        default_dataset = add_dataset(patient_id, default_dataset, PATH)\n",
    "    return default_dataset"
   ]
  },
  {
   "cell_type": "code",
   "execution_count": 9,
   "id": "b20eae84",
   "metadata": {
    "execution": {
     "iopub.execute_input": "2025-03-26T19:48:36.820208Z",
     "iopub.status.busy": "2025-03-26T19:48:36.819939Z",
     "iopub.status.idle": "2025-03-26T19:48:36.826221Z",
     "shell.execute_reply": "2025-03-26T19:48:36.825334Z"
    },
    "papermill": {
     "duration": 0.011753,
     "end_time": "2025-03-26T19:48:36.827611",
     "exception": false,
     "start_time": "2025-03-26T19:48:36.815858",
     "status": "completed"
    },
    "tags": []
   },
   "outputs": [],
   "source": [
    "def get_performance_metrics(cm):\n",
    "    \"\"\"\n",
    "    Calculates:\n",
    "        accuracy\n",
    "        true positive rate (recall, sensitivity)\n",
    "        specificity (1 - false positive rate)\n",
    "        positive predictive value (PPV, precision)\n",
    "        negative predictive value (NPV)\n",
    "        F1-score\n",
    "    from the given confusion matrix.\n",
    "    \"\"\"\n",
    "    cm = np.asarray(cm).copy()\n",
    "    tp, fp, tn, fn = cm[0,0], cm[0,1], cm[1,1], cm[1,0]\n",
    "    acc = (tp + tn) / (tp + tn + fp + fn)\n",
    "    rec = tp / (tp + fn)\n",
    "    spe = tn / (tn + fp)\n",
    "    pre = tp / (tp + fp)\n",
    "    npv = tn / (tn + fn)\n",
    "    f1 = (2 * pre * rec) / (pre + rec)\n",
    "    metrics = {\"acc\":acc, \"rec\":rec, \"spe\":spe, \"pre\":pre, \"npv\":npv, \"f1\":f1}\n",
    "    return metrics\n",
    "\n",
    "def get_confusion_matrix(pred_y, true_y, pos_is_zero=False):\n",
    "    \"\"\"\n",
    "    Calculates the confusion matrix for the given predictions and truth values. \n",
    "    \n",
    "    Set pos_is_zero to True if the positive sample's class index is 0.\n",
    "    In the case of our ECG work, positive means an abnormal beat, and has a class index of 1.\n",
    "    \"\"\"\n",
    "    pred_y = torch.as_tensor(pred_y, dtype=torch.long)\n",
    "    true_y = torch.as_tensor(true_y, dtype=torch.long)\n",
    "    vals = true_y + 2 * pred_y   # 0,0 -> 0    1,0 -> 1    0,1 -> 2    1,1 -> 3\n",
    "    cm = torch.zeros(4).long()  \n",
    "    cm += torch.bincount(vals, minlength=4)\n",
    "    cm = cm.reshape(2, 2)\n",
    "    \n",
    "    if not pos_is_zero:\n",
    "        return cm.flip((0, 1))\n",
    "    return cm"
   ]
  },
  {
   "cell_type": "code",
   "execution_count": 10,
   "id": "71d3f6d7",
   "metadata": {
    "execution": {
     "iopub.execute_input": "2025-03-26T19:48:36.835526Z",
     "iopub.status.busy": "2025-03-26T19:48:36.835237Z",
     "iopub.status.idle": "2025-03-26T19:48:36.839923Z",
     "shell.execute_reply": "2025-03-26T19:48:36.839271Z"
    },
    "papermill": {
     "duration": 0.009929,
     "end_time": "2025-03-26T19:48:36.841146",
     "exception": false,
     "start_time": "2025-03-26T19:48:36.831217",
     "status": "completed"
    },
    "tags": []
   },
   "outputs": [],
   "source": [
    "def get_base_model(in_channels):\n",
    "    \"\"\"\n",
    "    Returns the model from paper: Personalized Monitoring and Advance Warning System for Cardiac Arrhythmias.\n",
    "    \"\"\"\n",
    "    # Input size: 128x1\n",
    "    # 128x1 -> 122x32 -> 40x32 -> 34x16 -> 11x16 -> 5x16 -> 1x16\n",
    "    model = nn.Sequential(\n",
    "        nn.Conv1d(in_channels, 32, kernel_size=7, padding=0, bias=True),\n",
    "        nn.MaxPool1d(3),\n",
    "        nn.Tanh(),\n",
    "        \n",
    "        nn.Conv1d(32, 16, kernel_size=7, padding=0, bias=True),\n",
    "        nn.MaxPool1d(3),\n",
    "        nn.Tanh(),\n",
    "        \n",
    "        nn.Conv1d(16, 16, kernel_size=7, padding=0, bias=True),\n",
    "        nn.MaxPool1d(3),\n",
    "        nn.Tanh(),\n",
    "        \n",
    "        nn.Flatten(),\n",
    "        \n",
    "        nn.Linear(16, 32, bias=True),\n",
    "        nn.ReLU(),\n",
    "        \n",
    "        nn.Linear(32, 2, bias=True),\n",
    "    )\n",
    "    return model"
   ]
  },
  {
   "cell_type": "code",
   "execution_count": 11,
   "id": "3a712280",
   "metadata": {
    "execution": {
     "iopub.execute_input": "2025-03-26T19:48:36.848638Z",
     "iopub.status.busy": "2025-03-26T19:48:36.848386Z",
     "iopub.status.idle": "2025-03-26T19:48:36.851384Z",
     "shell.execute_reply": "2025-03-26T19:48:36.850769Z"
    },
    "papermill": {
     "duration": 0.008209,
     "end_time": "2025-03-26T19:48:36.852745",
     "exception": false,
     "start_time": "2025-03-26T19:48:36.844536",
     "status": "completed"
    },
    "tags": []
   },
   "outputs": [],
   "source": [
    "max_epochs = [-1]\n",
    "batch_sizes = [1024]"
   ]
  },
  {
   "cell_type": "code",
   "execution_count": 12,
   "id": "d924e3e1",
   "metadata": {
    "execution": {
     "iopub.execute_input": "2025-03-26T19:48:36.860048Z",
     "iopub.status.busy": "2025-03-26T19:48:36.859846Z",
     "iopub.status.idle": "2025-03-26T19:48:36.908648Z",
     "shell.execute_reply": "2025-03-26T19:48:36.907596Z"
    },
    "papermill": {
     "duration": 0.053985,
     "end_time": "2025-03-26T19:48:36.909948",
     "exception": false,
     "start_time": "2025-03-26T19:48:36.855963",
     "status": "completed"
    },
    "tags": []
   },
   "outputs": [
    {
     "name": "stdout",
     "output_type": "stream",
     "text": [
      "Using device: cuda\n"
     ]
    }
   ],
   "source": [
    "device = torch.device(\"cuda\" if torch.cuda.is_available() else \"cpu\")\n",
    "print(\"Using device:\", device)"
   ]
  },
  {
   "cell_type": "code",
   "execution_count": 13,
   "id": "126805e8",
   "metadata": {
    "execution": {
     "iopub.execute_input": "2025-03-26T19:48:36.919285Z",
     "iopub.status.busy": "2025-03-26T19:48:36.919068Z",
     "iopub.status.idle": "2025-03-26T21:34:06.969093Z",
     "shell.execute_reply": "2025-03-26T21:34:06.968248Z"
    },
    "papermill": {
     "duration": 6330.074695,
     "end_time": "2025-03-26T21:34:06.989899",
     "exception": false,
     "start_time": "2025-03-26T19:48:36.915204",
     "status": "completed"
    },
    "tags": []
   },
   "outputs": [
    {
     "name": "stderr",
     "output_type": "stream",
     "text": [
      "Repeat 1 Progress: 100%|██████████| 34/34 [10:48<00:00, 19.08s/it]\n",
      "Repeat 2 Progress: 100%|██████████| 34/34 [10:03<00:00, 17.76s/it]\n",
      "Repeat 3 Progress: 100%|██████████| 34/34 [10:14<00:00, 18.06s/it]\n",
      "Repeat 4 Progress: 100%|██████████| 34/34 [10:35<00:00, 18.69s/it]\n",
      "Repeat 5 Progress: 100%|██████████| 34/34 [10:45<00:00, 19.00s/it]\n",
      "Repeat 6 Progress: 100%|██████████| 34/34 [10:27<00:00, 18.47s/it]\n",
      "Repeat 7 Progress: 100%|██████████| 34/34 [10:24<00:00, 18.38s/it]\n",
      "Repeat 8 Progress: 100%|██████████| 34/34 [10:29<00:00, 18.53s/it]\n",
      "Repeat 9 Progress: 100%|██████████| 34/34 [10:50<00:00, 19.14s/it]\n",
      "Repeat 10 Progress: 100%|██████████| 34/34 [10:48<00:00, 19.07s/it]\n"
     ]
    }
   ],
   "source": [
    "\n",
    "all_patient_cms = []\n",
    "all_cms = []\n",
    "repeats = 10\n",
    "\n",
    "for repeat in range(repeats):\n",
    "    patient_cms = {}\n",
    "    cm = torch.zeros(2, 2)\n",
    "\n",
    "    for i, patient_id in tqdm(enumerate(valid_patients), total=len(valid_patients), desc=f\"Repeat {repeat+1} Progress\"):\n",
    "        dataset = load_N_channel_dataset(patient_id, DATASET_PATH, TRIO_PATH)\n",
    "        train_X, train_y, train_ids, val_X, val_y, val_ids, test_X, test_y, test_ids = dataset.values()\n",
    "\n",
    "        # TRAIN THE NEURAL NETWORK\n",
    "        model = get_base_model(in_channels=train_X.shape[1])\n",
    "        model = model.to(\"cuda\")\n",
    "        crit = nn.CrossEntropyLoss()\n",
    "        optim = torch.optim.AdamW(params=model.parameters())\n",
    "\n",
    "        net = NeuralNetwork(model, optim, crit)\n",
    "        weight_checkpoint_val_loss = WeightCheckpoint(tracked=\"val_loss\", mode=\"min\")\n",
    "        early_stopping = EarlyStopping(tracked=\"val_loss\", mode=\"min\", patience=15)\n",
    "\n",
    "        net.fit(\n",
    "            train_X=train_X,\n",
    "            train_y=train_y,\n",
    "            validate=True,\n",
    "            val_X=val_X,\n",
    "            val_y=val_y,\n",
    "            max_epochs=max_epochs[0],\n",
    "            batch_size=batch_sizes[0],\n",
    "            use_cuda=True,\n",
    "            fits_gpu=True,\n",
    "            callbacks=[weight_checkpoint_val_loss, early_stopping],\n",
    "        )\n",
    "\n",
    "        net.load_weights(weight_checkpoint_val_loss)\n",
    "        pred_y = net.predict(test_X, decision_func=lambda pred_y: pred_y.argmax(dim=1)).cpu()\n",
    "\n",
    "        # SAVE TRAINED WEIGHTS\n",
    "        NeuralNetwork.save_class(net, os.path.join(save_dir, f\"net_{repeat+1}_{patient_id}\"))\n",
    "\n",
    "        cur_cm = get_confusion_matrix(pred_y, test_y, pos_is_zero=False)\n",
    "        patient_cms[patient_id] = cur_cm\n",
    "        cm += cur_cm\n",
    "\n",
    "    all_patient_cms.append(patient_cms)\n",
    "    all_cms.append(cm)"
   ]
  },
  {
   "cell_type": "code",
   "execution_count": 14,
   "id": "4a6263a3",
   "metadata": {
    "execution": {
     "iopub.execute_input": "2025-03-26T21:34:07.030905Z",
     "iopub.status.busy": "2025-03-26T21:34:07.030473Z",
     "iopub.status.idle": "2025-03-26T21:34:07.035192Z",
     "shell.execute_reply": "2025-03-26T21:34:07.034358Z"
    },
    "papermill": {
     "duration": 0.027069,
     "end_time": "2025-03-26T21:34:07.036539",
     "exception": false,
     "start_time": "2025-03-26T21:34:07.009470",
     "status": "completed"
    },
    "tags": []
   },
   "outputs": [],
   "source": [
    "config = dict(\n",
    "    learning_rate=0.001,\n",
    "    max_epochs=max_epochs[0],\n",
    "    batch_size=batch_sizes[0],\n",
    "    optimizer=optim.__class__.__name__,\n",
    "    loss=crit.__class__.__name__,\n",
    "    early_stopping=\"true\",\n",
    "    checkpoint_on=weight_checkpoint_val_loss.tracked,\n",
    "    dataset=\"default+trio\",\n",
    "    info=\"2-channel run, domain adapted, consulting with default dictionary, and trying all thresholds, saves weights\"\n",
    ")"
   ]
  },
  {
   "cell_type": "code",
   "execution_count": 15,
   "id": "8b0ed5c3",
   "metadata": {
    "execution": {
     "iopub.execute_input": "2025-03-26T21:34:07.075915Z",
     "iopub.status.busy": "2025-03-26T21:34:07.075657Z",
     "iopub.status.idle": "2025-03-26T21:34:07.079405Z",
     "shell.execute_reply": "2025-03-26T21:34:07.078694Z"
    },
    "papermill": {
     "duration": 0.024728,
     "end_time": "2025-03-26T21:34:07.080607",
     "exception": false,
     "start_time": "2025-03-26T21:34:07.055879",
     "status": "completed"
    },
    "tags": []
   },
   "outputs": [],
   "source": [
    "all_cms = np.stack(all_cms).astype(int)"
   ]
  },
  {
   "cell_type": "code",
   "execution_count": 16,
   "id": "419421f4",
   "metadata": {
    "execution": {
     "iopub.execute_input": "2025-03-26T21:34:07.120148Z",
     "iopub.status.busy": "2025-03-26T21:34:07.119890Z",
     "iopub.status.idle": "2025-03-26T21:34:07.126780Z",
     "shell.execute_reply": "2025-03-26T21:34:07.125979Z"
    },
    "papermill": {
     "duration": 0.027916,
     "end_time": "2025-03-26T21:34:07.128046",
     "exception": false,
     "start_time": "2025-03-26T21:34:07.100130",
     "status": "completed"
    },
    "tags": []
   },
   "outputs": [
    {
     "data": {
      "text/plain": [
       "{'acc': 0.9906384432607042,\n",
       " 'rec': 0.9872912219012935,\n",
       " 'spe': 0.9911107960586942,\n",
       " 'pre': 0.9400243919936868,\n",
       " 'npv': 0.998193747367369,\n",
       " 'f1': 0.963078204625637}"
      ]
     },
     "execution_count": 16,
     "metadata": {},
     "output_type": "execute_result"
    }
   ],
   "source": [
    "get_performance_metrics(all_cms.sum(axis=0))"
   ]
  },
  {
   "cell_type": "code",
   "execution_count": 17,
   "id": "b9b16677",
   "metadata": {
    "execution": {
     "iopub.execute_input": "2025-03-26T21:34:07.168431Z",
     "iopub.status.busy": "2025-03-26T21:34:07.168127Z",
     "iopub.status.idle": "2025-03-26T21:34:07.191535Z",
     "shell.execute_reply": "2025-03-26T21:34:07.190837Z"
    },
    "papermill": {
     "duration": 0.045224,
     "end_time": "2025-03-26T21:34:07.192879",
     "exception": false,
     "start_time": "2025-03-26T21:34:07.147655",
     "status": "completed"
    },
    "tags": []
   },
   "outputs": [],
   "source": [
    "with open(os.path.join(SAVE_PATH, \"cms.pkl\"), \"wb\") as f:\n",
    "    pickle.dump(all_cms, f)\n",
    "    \n",
    "with open(os.path.join(SAVE_PATH, \"config.pkl\"), \"wb\") as f:\n",
    "    pickle.dump(config, f)\n",
    "    \n",
    "with open(os.path.join(SAVE_PATH, \"patient_cms.pkl\"), \"wb\") as f:\n",
    "    pickle.dump(all_patient_cms, f)"
   ]
  },
  {
   "cell_type": "code",
   "execution_count": null,
   "id": "c0c4c096",
   "metadata": {
    "papermill": {
     "duration": 0.019491,
     "end_time": "2025-03-26T21:34:07.232204",
     "exception": false,
     "start_time": "2025-03-26T21:34:07.212713",
     "status": "completed"
    },
    "tags": []
   },
   "outputs": [],
   "source": []
  }
 ],
 "metadata": {
  "kaggle": {
   "accelerator": "gpu",
   "dataSources": [
    {
     "datasetId": 6975992,
     "sourceId": 11176910,
     "sourceType": "datasetVersion"
    },
    {
     "datasetId": 6976128,
     "sourceId": 11177092,
     "sourceType": "datasetVersion"
    },
    {
     "datasetId": 6976452,
     "sourceId": 11177520,
     "sourceType": "datasetVersion"
    }
   ],
   "dockerImageVersionId": 30919,
   "isGpuEnabled": true,
   "isInternetEnabled": true,
   "language": "python",
   "sourceType": "notebook"
  },
  "kernelspec": {
   "display_name": "Python 3",
   "language": "python",
   "name": "python3"
  },
  "language_info": {
   "codemirror_mode": {
    "name": "ipython",
    "version": 3
   },
   "file_extension": ".py",
   "mimetype": "text/x-python",
   "name": "python",
   "nbconvert_exporter": "python",
   "pygments_lexer": "ipython3",
   "version": "3.10.12"
  },
  "papermill": {
   "default_parameters": {},
   "duration": 6338.525668,
   "end_time": "2025-03-26T21:34:08.780070",
   "environment_variables": {},
   "exception": null,
   "input_path": "__notebook__.ipynb",
   "output_path": "__notebook__.ipynb",
   "parameters": {},
   "start_time": "2025-03-26T19:48:30.254402",
   "version": "2.6.0"
  }
 },
 "nbformat": 4,
 "nbformat_minor": 5
}
