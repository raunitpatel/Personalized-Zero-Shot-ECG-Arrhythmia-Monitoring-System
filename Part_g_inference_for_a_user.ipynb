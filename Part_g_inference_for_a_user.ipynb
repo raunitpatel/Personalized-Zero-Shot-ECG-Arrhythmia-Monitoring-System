{
 "cells": [
  {
   "cell_type": "code",
   "execution_count": 1,
   "id": "68e9cfaf",
   "metadata": {
    "_cell_guid": "b1076dfc-b9ad-4769-8c92-a6c4dae69d19",
    "_uuid": "8f2839f25d086af736a60e9eeb907d3b93b6e0e5",
    "execution": {
     "iopub.execute_input": "2025-04-12T09:53:56.483117Z",
     "iopub.status.busy": "2025-04-12T09:53:56.482358Z",
     "iopub.status.idle": "2025-04-12T09:54:03.107386Z",
     "shell.execute_reply": "2025-04-12T09:54:03.106803Z"
    },
    "papermill": {
     "duration": 6.631425,
     "end_time": "2025-04-12T09:54:03.108837",
     "exception": false,
     "start_time": "2025-04-12T09:53:56.477412",
     "status": "completed"
    },
    "tags": []
   },
   "outputs": [],
   "source": [
    "import numpy as np \n",
    "import pandas as pd \n",
    "import os\n",
    "import pickle\n",
    "import sys\n",
    "import torch\n",
    "from torch import nn\n",
    "import scipy\n",
    "import torch.nn.functional as Func\n",
    "import warnings\n",
    "from tqdm import tqdm\n",
    "import matplotlib.pyplot as plt\n",
    "import seaborn as sns"
   ]
  },
  {
   "cell_type": "code",
   "execution_count": 2,
   "id": "bdf9aff7",
   "metadata": {
    "execution": {
     "iopub.execute_input": "2025-04-12T09:54:03.116140Z",
     "iopub.status.busy": "2025-04-12T09:54:03.115829Z",
     "iopub.status.idle": "2025-04-12T09:54:03.208864Z",
     "shell.execute_reply": "2025-04-12T09:54:03.208120Z"
    },
    "papermill": {
     "duration": 0.097925,
     "end_time": "2025-04-12T09:54:03.210156",
     "exception": false,
     "start_time": "2025-04-12T09:54:03.112231",
     "status": "completed"
    },
    "tags": []
   },
   "outputs": [],
   "source": [
    "sys.path.append(\"/kaggle/input/pytorch-sklearnn\")\n",
    "from pytorch_sklearn import NeuralNetwork\n",
    "from pytorch_sklearn.callbacks import WeightCheckpoint, Verbose, LossPlot, EarlyStopping, Callback, CallbackInfo\n",
    "from pytorch_sklearn.utils.func_utils import to_safe_tensor"
   ]
  },
  {
   "cell_type": "code",
   "execution_count": 3,
   "id": "1a39d487",
   "metadata": {
    "execution": {
     "iopub.execute_input": "2025-04-12T09:54:03.217078Z",
     "iopub.status.busy": "2025-04-12T09:54:03.216875Z",
     "iopub.status.idle": "2025-04-12T09:54:03.219976Z",
     "shell.execute_reply": "2025-04-12T09:54:03.219458Z"
    },
    "papermill": {
     "duration": 0.007676,
     "end_time": "2025-04-12T09:54:03.221011",
     "exception": false,
     "start_time": "2025-04-12T09:54:03.213335",
     "status": "completed"
    },
    "tags": []
   },
   "outputs": [],
   "source": [
    "warnings.filterwarnings('ignore')"
   ]
  },
  {
   "cell_type": "code",
   "execution_count": 4,
   "id": "0419f854",
   "metadata": {
    "execution": {
     "iopub.execute_input": "2025-04-12T09:54:03.227269Z",
     "iopub.status.busy": "2025-04-12T09:54:03.227084Z",
     "iopub.status.idle": "2025-04-12T09:54:03.230532Z",
     "shell.execute_reply": "2025-04-12T09:54:03.229885Z"
    },
    "papermill": {
     "duration": 0.00771,
     "end_time": "2025-04-12T09:54:03.231557",
     "exception": false,
     "start_time": "2025-04-12T09:54:03.223847",
     "status": "completed"
    },
    "tags": []
   },
   "outputs": [],
   "source": [
    "def read_data(path):\n",
    "    with open(path, \"rb\") as f:\n",
    "        return pickle.load(f)"
   ]
  },
  {
   "cell_type": "code",
   "execution_count": 5,
   "id": "deccc43b",
   "metadata": {
    "execution": {
     "iopub.execute_input": "2025-04-12T09:54:03.238153Z",
     "iopub.status.busy": "2025-04-12T09:54:03.237945Z",
     "iopub.status.idle": "2025-04-12T09:54:03.241212Z",
     "shell.execute_reply": "2025-04-12T09:54:03.240534Z"
    },
    "papermill": {
     "duration": 0.007782,
     "end_time": "2025-04-12T09:54:03.242221",
     "exception": false,
     "start_time": "2025-04-12T09:54:03.234439",
     "status": "completed"
    },
    "tags": []
   },
   "outputs": [],
   "source": [
    "DATASET_PATH = '/kaggle/input/arrythmia-dataset/dataset_training/dataset_beat_single_domain_adapted'\n",
    "TRIO_PATH = '/kaggle/input/arrythmia-dataset/dataset_training/dataset_beat_trios_domain_adapted'\n",
    "DICT_PATH = '/kaggle/input/dictionaries/dictionaries/dictionaries_5min_beats_single_sorted'"
   ]
  },
  {
   "cell_type": "code",
   "execution_count": 6,
   "id": "2e7c36fb",
   "metadata": {
    "execution": {
     "iopub.execute_input": "2025-04-12T09:54:03.248568Z",
     "iopub.status.busy": "2025-04-12T09:54:03.248126Z",
     "iopub.status.idle": "2025-04-12T09:54:03.251593Z",
     "shell.execute_reply": "2025-04-12T09:54:03.251085Z"
    },
    "papermill": {
     "duration": 0.007631,
     "end_time": "2025-04-12T09:54:03.252612",
     "exception": false,
     "start_time": "2025-04-12T09:54:03.244981",
     "status": "completed"
    },
    "tags": []
   },
   "outputs": [],
   "source": [
    "SAVE_PATH = '/kaggle/working/'\n",
    "save_dir = os.path.join(SAVE_PATH, \"nets\")\n",
    "os.makedirs(save_dir, exist_ok=True)"
   ]
  },
  {
   "cell_type": "code",
   "execution_count": 7,
   "id": "12829ef9",
   "metadata": {
    "execution": {
     "iopub.execute_input": "2025-04-12T09:54:03.259199Z",
     "iopub.status.busy": "2025-04-12T09:54:03.258982Z",
     "iopub.status.idle": "2025-04-12T09:54:03.268363Z",
     "shell.execute_reply": "2025-04-12T09:54:03.267840Z"
    },
    "papermill": {
     "duration": 0.01402,
     "end_time": "2025-04-12T09:54:03.269524",
     "exception": false,
     "start_time": "2025-04-12T09:54:03.255504",
     "status": "completed"
    },
    "tags": []
   },
   "outputs": [],
   "source": [
    "def load_dataset(patient_id, PATH):\n",
    "    \"\"\" \n",
    "    Reads the pickled ECG dataset from the given path for the given patient.\n",
    "    The file name must be \"patient_<patient_id>_dataset.pkl\".\n",
    "    \"\"\"\n",
    "    with open(os.path.join(PATH, f\"patient_{patient_id}_dataset.pkl\"), \"rb\") as f:\n",
    "        return pickle.load(f)\n",
    "\n",
    "def load_dictionary(patient_id, PATH):\n",
    "    \"\"\"\n",
    "    Reads the pickled ECG dictionary from the given path for the given patient.\n",
    "    The file name must be \"patient_<patient_id>_dictionary.pkl\".\n",
    "    \"\"\"\n",
    "    with open(os.path.join(PATH, f\"patient_{patient_id}_dictionary.pkl\"), \"rb\") as f:\n",
    "        D = pickle.load(f)\n",
    "        F = scipy.linalg.null_space(D.T)\n",
    "        F = scipy.linalg.orth(F).T\n",
    "    return D, F\n",
    "\n",
    "    \n",
    "def dataset_to_tensors(dataset):\n",
    "    \"\"\"\n",
    "    Converts the given dataset to torch tensors in appropriate data types and shapes.\n",
    "    \"\"\"\n",
    "    dataset = dataset.copy()\n",
    "    train_X, train_y, train_ids, val_X, val_y, val_ids, test_X, test_y, test_ids = dataset.values()\n",
    "    dataset[\"train_X\"] = torch.Tensor(train_X).float().reshape(-1, 1, train_X.shape[1])\n",
    "    dataset[\"train_y\"] = torch.Tensor(train_y).long()\n",
    "    dataset[\"train_ids\"] = torch.Tensor(train_ids).long()\n",
    "    dataset[\"val_X\"] = torch.Tensor(val_X).float().reshape(-1, 1, val_X.shape[1])\n",
    "    dataset[\"val_y\"] = torch.Tensor(val_y).long()\n",
    "    dataset[\"val_ids\"] = torch.Tensor(val_ids).long()\n",
    "    dataset[\"test_X\"] = torch.Tensor(test_X).float().reshape(-1, 1, test_X.shape[1])\n",
    "    dataset[\"test_y\"] = torch.Tensor(test_y).long()\n",
    "    dataset[\"test_ids\"] = torch.Tensor(test_ids).long()\n",
    "    return dataset\n",
    "\n",
    "def add_dataset(patient_id, dataset, DATASET_PATH):\n",
    "    \"\"\"\n",
    "    Adds another dataset to an already existing one, increasing the number of channels.\n",
    "    \"\"\"\n",
    "    dataset = dataset.copy()\n",
    "    dataset_other = load_dataset(patient_id, DATASET_PATH)\n",
    "    dataset_other = dataset_to_tensors(dataset_other)\n",
    "    \n",
    "    assert torch.equal(dataset[\"train_y\"], dataset_other[\"train_y\"]), \"Training ground truths are different. Possibly shuffled differently.\"\n",
    "    assert torch.equal(dataset[\"val_y\"], dataset_other[\"val_y\"]), \"Validation ground truths are different. Possibly shuffled differently.\"\n",
    "    assert torch.equal(dataset[\"test_y\"], dataset_other[\"test_y\"]), \"Test ground truths are different. Possibly shuffled differently.\"\n",
    "    \n",
    "    train_X, train_y, train_ids, val_X, val_y, val_ids, test_X, test_y, test_ids = dataset.values()\n",
    "    train_other_X, _, _, val_other_X, _, _, test_other_X, _, _ = dataset_other.values()\n",
    "    dataset[\"train_X\"] = torch.cat((train_X, train_other_X), dim=1)\n",
    "    dataset[\"val_X\"] = torch.cat((val_X, val_other_X), dim=1)\n",
    "    dataset[\"test_X\"] = torch.cat((test_X, test_other_X), dim=1)\n",
    "    return dataset\n",
    "\n",
    "def load_N_channel_dataset(patient_id, DEFAULT_PATH, *PATHS):\n",
    "    \"\"\"\n",
    "    Loads the ECG dataset at the given path(s) for the given patient. Each dataset will be added as a new\n",
    "    channel in the given order.\n",
    "    \"\"\"\n",
    "    default_dataset = load_dataset(patient_id, DEFAULT_PATH)\n",
    "    default_dataset = dataset_to_tensors(default_dataset)\n",
    "    for PATH in PATHS:\n",
    "        default_dataset = add_dataset(patient_id, default_dataset, PATH)\n",
    "    return default_dataset"
   ]
  },
  {
   "cell_type": "code",
   "execution_count": 8,
   "id": "c7b3afba",
   "metadata": {
    "execution": {
     "iopub.execute_input": "2025-04-12T09:54:03.275975Z",
     "iopub.status.busy": "2025-04-12T09:54:03.275720Z",
     "iopub.status.idle": "2025-04-12T09:54:03.282910Z",
     "shell.execute_reply": "2025-04-12T09:54:03.282247Z"
    },
    "papermill": {
     "duration": 0.011744,
     "end_time": "2025-04-12T09:54:03.284076",
     "exception": false,
     "start_time": "2025-04-12T09:54:03.272332",
     "status": "completed"
    },
    "tags": []
   },
   "outputs": [],
   "source": [
    "def get_error_one_patient(S, F, y=None, as_energy=False):\n",
    "    \"\"\"\n",
    "    Returns the error, E = S @ F.T\n",
    "    \n",
    "    Parameters\n",
    "    ----------\n",
    "    S : array_like\n",
    "        ECG signals of shape (N x K), where K is signal length.\n",
    "    F : array_like\n",
    "        Dictionary null-space of shape (M x K), where M is error signal length.\n",
    "    y : array_like\n",
    "        Array of labels of shape (N). If provided, errors are returned separately for healthy and arrhythmia.\n",
    "    as_energy : bool\n",
    "        If True, error energies are returned instead.\n",
    "    \"\"\"\n",
    "    \n",
    "    assert F.shape[1] == S.shape[1], f\"F and S can't be matrix multiplied. Provide S as a matrix with shape (N x {F.shape[1]}).\"\n",
    "    assert y is None or len(np.unique(y)) == 2, f\"There must be 2 classes. Found {len(np.unique(y))} classes.\"\n",
    "    \n",
    "    E = S @ F.T\n",
    "    \n",
    "    if as_energy:\n",
    "        E = E.pow(2).sum(dim=1)\n",
    "    \n",
    "    if y is not None:\n",
    "        healthy = np.where(y == 0)[0]\n",
    "        arrhyth = np.where(y == 1)[0]\n",
    "\n",
    "        E_healthy = E[healthy]\n",
    "        E_arrhyth = E[arrhyth]\n",
    "        \n",
    "        return E, E_healthy, E_arrhyth\n",
    "    return E\n",
    "\n",
    "def get_error_per_patient(S, ids, DICT_PATH, y=None, as_energy=False):\n",
    "    \"\"\"\n",
    "    Returns the error, E = S_i @ F_i.T, where S_i and F_i are the signals and null-space of patient i.\n",
    "    \n",
    "    Parameters\n",
    "    ----------\n",
    "    S : array_like\n",
    "        ECG signals of shape (N x K), where K is signal length.\n",
    "    ids : array_like\n",
    "        ids[i] is the id of the patient that S[i] belongs to.\n",
    "    DICT_PATH : str\n",
    "        Path to the folder that has the dictionary of the users.\n",
    "    y : array_like\n",
    "        Array of labels of shape (N). If provided, errors are returned separately for healthy and arrhythmia.\n",
    "    as_energy : bool\n",
    "        If True, error energies are returned instead.\n",
    "    \"\"\"\n",
    "    \n",
    "    _, F = load_dictionary(ids[0], DICT_PATH)\n",
    "    F = torch.Tensor(F).float()\n",
    "    E_shape = S.shape[0] if as_energy else [S.shape[0], F.shape[0]]\n",
    "    Es = torch.empty(E_shape)\n",
    "    \n",
    "    for id_ in ids.unique():\n",
    "        _, F = load_dictionary(id_, DICT_PATH)\n",
    "        F = torch.Tensor(F).float()\n",
    "        idx = np.where(ids == id_)[0]\n",
    "        E = get_error_one_patient(S[ids == id_], F, as_energy=as_energy)\n",
    "        Es[idx] = E\n",
    "    \n",
    "    if y is not None:\n",
    "        healthy = np.where(y == 0)[0]\n",
    "        arrhyth = np.where(y == 1)[0]\n",
    "\n",
    "        E_healthy = Es[healthy]\n",
    "        E_arrhyth = Es[arrhyth]\n",
    "        \n",
    "        return Es, E_healthy, E_arrhyth\n",
    "    \n",
    "    return Es"
   ]
  },
  {
   "cell_type": "code",
   "execution_count": 9,
   "id": "943390df",
   "metadata": {
    "execution": {
     "iopub.execute_input": "2025-04-12T09:54:03.290274Z",
     "iopub.status.busy": "2025-04-12T09:54:03.290098Z",
     "iopub.status.idle": "2025-04-12T09:54:03.295721Z",
     "shell.execute_reply": "2025-04-12T09:54:03.295027Z"
    },
    "papermill": {
     "duration": 0.010115,
     "end_time": "2025-04-12T09:54:03.297038",
     "exception": false,
     "start_time": "2025-04-12T09:54:03.286923",
     "status": "completed"
    },
    "tags": []
   },
   "outputs": [],
   "source": [
    "class ExponentialFit:\n",
    "    def __init__(self):\n",
    "        pass\n",
    "    \n",
    "    def fit(self, X):\n",
    "        self.beta = X.mean()\n",
    "        self.fit_perf = np.sum(self.likelihood(X))\n",
    "    \n",
    "    def likelihood(self, X):\n",
    "        return scipy.stats.expon(scale=self.beta).pdf(X)\n",
    "\n",
    "class GaussianFit:\n",
    "    def __init__(self):\n",
    "        pass\n",
    "    \n",
    "    def fit(self, X):\n",
    "        self.mu = X.mean()\n",
    "        self.std = X.std()\n",
    "        self.fit_perf = np.sum(self.likelihood(X))\n",
    "    \n",
    "    def likelihood(self, X):\n",
    "        return scipy.stats.norm(loc=self.mu, scale=self.std).pdf(X)\n",
    "\n",
    "\n",
    "class BayesianFit:\n",
    "    def __init__(self):\n",
    "        pass\n",
    "        \n",
    "    def predict(self, X, model1, model2, prior1=1, prior2=1):\n",
    "        like1 = model1.likelihood(X) * prior1\n",
    "        like2 = model2.likelihood(X) * prior2\n",
    "        odd1 = like1 / like2\n",
    "        return odd1 / (1 + odd1)"
   ]
  },
  {
   "cell_type": "code",
   "execution_count": 10,
   "id": "d5e4a25f",
   "metadata": {
    "execution": {
     "iopub.execute_input": "2025-04-12T09:54:03.303359Z",
     "iopub.status.busy": "2025-04-12T09:54:03.302995Z",
     "iopub.status.idle": "2025-04-12T09:54:03.308677Z",
     "shell.execute_reply": "2025-04-12T09:54:03.308194Z"
    },
    "papermill": {
     "duration": 0.009987,
     "end_time": "2025-04-12T09:54:03.309701",
     "exception": false,
     "start_time": "2025-04-12T09:54:03.299714",
     "status": "completed"
    },
    "tags": []
   },
   "outputs": [],
   "source": [
    "def get_performance_metrics(cm):\n",
    "    \"\"\"\n",
    "    Calculates:\n",
    "        accuracy\n",
    "        true positive rate (recall, sensitivity)\n",
    "        specificity (1 - false positive rate)\n",
    "        positive predictive value (PPV, precision)\n",
    "        negative predictive value (NPV)\n",
    "        F1-score\n",
    "    from the given confusion matrix.\n",
    "    \"\"\"\n",
    "    cm = np.asarray(cm).copy()\n",
    "    tp, fp, tn, fn = cm[0,0], cm[0,1], cm[1,1], cm[1,0]\n",
    "    acc = (tp + tn) / (tp + tn + fp + fn)\n",
    "    rec = tp / (tp + fn)\n",
    "    spe = tn / (tn + fp)\n",
    "    pre = tp / (tp + fp)\n",
    "    npv = tn / (tn + fn)\n",
    "    f1 = (2 * pre * rec) / (pre + rec)\n",
    "    metrics = {\"acc\":acc, \"rec\":rec, \"spe\":spe, \"pre\":pre, \"npv\":npv, \"f1\":f1}\n",
    "    return metrics\n",
    "\n",
    "def get_confusion_matrix(pred_y, true_y, pos_is_zero=False):\n",
    "    \"\"\"\n",
    "    Calculates the confusion matrix for the given predictions and truth values. \n",
    "    \n",
    "    Set pos_is_zero to True if the positive sample's class index is 0.\n",
    "    In the case of our ECG work, positive means an abnormal beat, and has a class index of 1.\n",
    "    \"\"\"\n",
    "    pred_y = torch.as_tensor(pred_y, dtype=torch.long)\n",
    "    true_y = torch.as_tensor(true_y, dtype=torch.long)\n",
    "    vals = true_y + 2 * pred_y   # 0,0 -> 0    1,0 -> 1    0,1 -> 2    1,1 -> 3\n",
    "    cm = torch.zeros(4).long()  \n",
    "    cm += torch.bincount(vals, minlength=4)\n",
    "    cm = cm.reshape(2, 2)\n",
    "    \n",
    "    if not pos_is_zero:\n",
    "        return cm.flip((0, 1))\n",
    "    return cm"
   ]
  },
  {
   "cell_type": "code",
   "execution_count": 11,
   "id": "4348232a",
   "metadata": {
    "execution": {
     "iopub.execute_input": "2025-04-12T09:54:03.315960Z",
     "iopub.status.busy": "2025-04-12T09:54:03.315772Z",
     "iopub.status.idle": "2025-04-12T09:54:03.319973Z",
     "shell.execute_reply": "2025-04-12T09:54:03.319496Z"
    },
    "papermill": {
     "duration": 0.00851,
     "end_time": "2025-04-12T09:54:03.320982",
     "exception": false,
     "start_time": "2025-04-12T09:54:03.312472",
     "status": "completed"
    },
    "tags": []
   },
   "outputs": [],
   "source": [
    "def get_base_model(in_channels):\n",
    "    \"\"\"\n",
    "    Returns the model from paper: Personalized Monitoring and Advance Warning System for Cardiac Arrhythmias.\n",
    "    \"\"\"\n",
    "    # Input size: 128x1\n",
    "    # 128x1 -> 122x32 -> 40x32 -> 34x16 -> 11x16 -> 5x16 -> 1x16\n",
    "    model = nn.Sequential(\n",
    "        nn.Conv1d(in_channels, 32, kernel_size=7, padding=0, bias=True),\n",
    "        nn.MaxPool1d(3),\n",
    "        nn.Tanh(),\n",
    "        \n",
    "        nn.Conv1d(32, 16, kernel_size=7, padding=0, bias=True),\n",
    "        nn.MaxPool1d(3),\n",
    "        nn.Tanh(),\n",
    "        \n",
    "        nn.Conv1d(16, 16, kernel_size=7, padding=0, bias=True),\n",
    "        nn.MaxPool1d(3),\n",
    "        nn.Tanh(),\n",
    "        \n",
    "        nn.Flatten(),\n",
    "        \n",
    "        nn.Linear(16, 32, bias=True),\n",
    "        nn.ReLU(),\n",
    "        \n",
    "        nn.Linear(32, 2, bias=True),\n",
    "    )\n",
    "    return model"
   ]
  },
  {
   "cell_type": "code",
   "execution_count": 12,
   "id": "48581e69",
   "metadata": {
    "execution": {
     "iopub.execute_input": "2025-04-12T09:54:03.327088Z",
     "iopub.status.busy": "2025-04-12T09:54:03.326913Z",
     "iopub.status.idle": "2025-04-12T09:54:03.330459Z",
     "shell.execute_reply": "2025-04-12T09:54:03.329789Z"
    },
    "papermill": {
     "duration": 0.007833,
     "end_time": "2025-04-12T09:54:03.331519",
     "exception": false,
     "start_time": "2025-04-12T09:54:03.323686",
     "status": "completed"
    },
    "tags": []
   },
   "outputs": [],
   "source": [
    "max_epochs = [-1]\n",
    "batch_sizes = [1024]\n",
    "confidences = [0, *np.linspace(0.5, 1, 51)]"
   ]
  },
  {
   "cell_type": "code",
   "execution_count": 13,
   "id": "8a9112f5",
   "metadata": {
    "execution": {
     "iopub.execute_input": "2025-04-12T09:54:03.337677Z",
     "iopub.status.busy": "2025-04-12T09:54:03.337499Z",
     "iopub.status.idle": "2025-04-12T09:54:03.399152Z",
     "shell.execute_reply": "2025-04-12T09:54:03.398353Z"
    },
    "papermill": {
     "duration": 0.065918,
     "end_time": "2025-04-12T09:54:03.400234",
     "exception": false,
     "start_time": "2025-04-12T09:54:03.334316",
     "status": "completed"
    },
    "tags": []
   },
   "outputs": [
    {
     "name": "stdout",
     "output_type": "stream",
     "text": [
      "Using device: cuda\n"
     ]
    }
   ],
   "source": [
    "device = torch.device(\"cuda\" if torch.cuda.is_available() else \"cpu\")\n",
    "print(\"Using device:\", device)"
   ]
  },
  {
   "cell_type": "code",
   "execution_count": 14,
   "id": "fad81444",
   "metadata": {
    "execution": {
     "iopub.execute_input": "2025-04-12T09:54:03.406840Z",
     "iopub.status.busy": "2025-04-12T09:54:03.406593Z",
     "iopub.status.idle": "2025-04-12T09:54:03.409669Z",
     "shell.execute_reply": "2025-04-12T09:54:03.409131Z"
    },
    "papermill": {
     "duration": 0.007487,
     "end_time": "2025-04-12T09:54:03.410701",
     "exception": false,
     "start_time": "2025-04-12T09:54:03.403214",
     "status": "completed"
    },
    "tags": []
   },
   "outputs": [],
   "source": [
    "target_patient_id = 124"
   ]
  },
  {
   "cell_type": "code",
   "execution_count": 15,
   "id": "15b4456f",
   "metadata": {
    "execution": {
     "iopub.execute_input": "2025-04-12T09:54:03.417231Z",
     "iopub.status.busy": "2025-04-12T09:54:03.417045Z",
     "iopub.status.idle": "2025-04-12T09:54:24.216831Z",
     "shell.execute_reply": "2025-04-12T09:54:24.216147Z"
    },
    "papermill": {
     "duration": 20.804789,
     "end_time": "2025-04-12T09:54:24.218324",
     "exception": false,
     "start_time": "2025-04-12T09:54:03.413535",
     "status": "completed"
    },
    "tags": []
   },
   "outputs": [],
   "source": [
    "dataset = load_N_channel_dataset(target_patient_id, DATASET_PATH, TRIO_PATH)\n",
    "train_X, train_y, train_ids, val_X, val_y, val_ids, test_X, test_y, test_ids = dataset.values()\n",
    "\n",
    "D, F = load_dictionary(target_patient_id, DICT_PATH)\n",
    "D, F = torch.Tensor(D), torch.Tensor(F)\n",
    "\n",
    "BF = BayesianFit()\n",
    "EF = ExponentialFit()\n",
    "GF = GaussianFit()\n",
    "\n",
    "train_E, E_healthy, E_arrhyth = get_error_one_patient(train_X[:, 0, :].squeeze(), F, y=train_y, as_energy=True)\n",
    "EF.fit(E_healthy)\n",
    "GF.fit(E_arrhyth)\n",
    "consult_train_y = torch.Tensor(BF.predict(train_E, EF, GF) <= 0.5).long()\n",
    "\n",
    "val_E, val_E_healthy, val_E_arrhyth = get_error_one_patient(val_X[:, 0, :].squeeze(), F, y=val_y, as_energy=True)\n",
    "EF.fit(val_E_healthy)\n",
    "GF.fit(val_E_arrhyth)\n",
    "consult_val_y = torch.Tensor(BF.predict(val_E, EF, GF) <= 0.5).long()\n",
    "\n",
    "test_E = get_error_one_patient(test_X[:, 0, :].squeeze(), F, as_energy=True)\n",
    "EF.fit(E_healthy)\n",
    "GF.fit(E_arrhyth)\n",
    "consult_test_y = torch.Tensor(BF.predict(test_E, EF, GF) <= 0.5).long()\n",
    "\n",
    "model = get_base_model(in_channels=train_X.shape[1])\n",
    "model = model.to(device)\n",
    "crit = nn.CrossEntropyLoss()\n",
    "optim = torch.optim.AdamW(params=model.parameters())\n",
    "\n",
    "net = NeuralNetwork(model, optim, crit)\n",
    "\n",
    "weight_checkpoint_val_loss = WeightCheckpoint(tracked=\"val_loss\", mode=\"min\")\n",
    "early_stopping = EarlyStopping(tracked=\"val_loss\", mode=\"min\", patience=15)\n",
    "\n",
    "net.fit(\n",
    "    train_X=train_X,\n",
    "    train_y=train_y,\n",
    "    validate=True,\n",
    "    val_X=val_X,\n",
    "    val_y=val_y,\n",
    "    max_epochs=max_epochs[0],\n",
    "    batch_size=batch_sizes[0],\n",
    "    use_cuda=True,\n",
    "    fits_gpu=True,\n",
    "    callbacks=[weight_checkpoint_val_loss, early_stopping],\n",
    ")\n",
    "\n",
    "\n",
    "repeat_index = 0  \n",
    "weight_path = os.path.join(save_dir, f\"net_{repeat_index+1}_{target_patient_id}.pt\")\n",
    "\n",
    "NeuralNetwork.save_class(net, weight_path)\n",
    "\n",
    "model = get_base_model(in_channels=train_X.shape[1])\n",
    "model = model.to(device)\n",
    "crit = nn.CrossEntropyLoss()\n",
    "optim = torch.optim.AdamW(params=model.parameters())\n",
    "\n",
    "# Load the class using the same architecture\n",
    "net = NeuralNetwork.load_class(\n",
    "    weight_path,\n",
    "    module=model,\n",
    "    optimizer=optim,\n",
    "    criterion=crit\n",
    ")\n",
    "\n",
    "\n",
    "\n",
    "\n",
    "\n",
    "pred_y = net.predict(val_X, batch_size=1024, use_cuda=True, fits_gpu=True, decision_func=lambda pred_y: pred_y.argmax(dim=1)).cpu()\n",
    "prob_y = net.predict_proba(val_X).cpu()\n",
    "softmax_prob_y = Func.softmax(prob_y, dim=1).max(dim=1).values\n",
    "\n",
    "maxF1 = float(\"-inf\")\n",
    "maxConf = -1\n",
    "for conf in confidences:\n",
    "    low_confidence = softmax_prob_y < conf\n",
    "    high_confidence = softmax_prob_y >= conf\n",
    "    final_pred_y = torch.Tensor(np.select([low_confidence, high_confidence], [consult_val_y, pred_y])).long()\n",
    "    val_cm = get_confusion_matrix(final_pred_y, val_y, pos_is_zero=False)\n",
    "    f1 = get_performance_metrics(val_cm)[\"f1\"]\n",
    "    if f1 >= (maxF1 - 1e-3):\n",
    "        maxF1 = f1\n",
    "        maxConf = conf\n",
    "\n",
    "pred_y = net.predict(test_X, batch_size=1024, use_cuda=True, fits_gpu=True, decision_func=lambda pred_y: pred_y.argmax(dim=1)).cpu()\n",
    "prob_y = net.predict_proba(test_X).cpu()\n",
    "softmax_prob_y = Func.softmax(prob_y, dim=1).max(dim=1).values\n",
    "\n",
    "low_confidence = softmax_prob_y < maxConf\n",
    "high_confidence = softmax_prob_y >= maxConf\n",
    "final_pred_y = torch.Tensor(np.select([low_confidence, high_confidence], [consult_test_y, pred_y])).long()\n",
    "\n",
    "# Get test confusion matrix\n",
    "cm_exp = get_confusion_matrix(final_pred_y, test_y, pos_is_zero=False)"
   ]
  },
  {
   "cell_type": "code",
   "execution_count": 16,
   "id": "f97d608e",
   "metadata": {
    "execution": {
     "iopub.execute_input": "2025-04-12T09:54:24.225629Z",
     "iopub.status.busy": "2025-04-12T09:54:24.225276Z",
     "iopub.status.idle": "2025-04-12T09:54:24.370929Z",
     "shell.execute_reply": "2025-04-12T09:54:24.370172Z"
    },
    "papermill": {
     "duration": 0.150461,
     "end_time": "2025-04-12T09:54:24.372107",
     "exception": false,
     "start_time": "2025-04-12T09:54:24.221646",
     "status": "completed"
    },
    "tags": []
   },
   "outputs": [
    {
     "data": {
      "image/png": "[encoded data removed]",
      "text/plain": [
       "<Figure size 500x400 with 1 Axes>"
      ]
     },
     "metadata": {},
     "output_type": "display_data"
    },
    {
     "name": "stdout",
     "output_type": "stream",
     "text": [
      "Confidence Threshold used: 0.85\n"
     ]
    }
   ],
   "source": [
    "FN, FP = cm_exp[0]\n",
    "TN, TP = cm_exp[1]\n",
    "\n",
    "cm = [[FN, FP], [TN, TP]]\n",
    "\n",
    "fig, ax = plt.subplots(figsize=(5, 4))\n",
    "\n",
    "sns.heatmap(cm, annot=True, fmt=\"d\", cmap=\"Blues\", cbar=False,\n",
    "            xticklabels=[\"Abnormal\", \"Normal\"], yticklabels=[\"Abnormal\", \"Normal\"], ax=ax)\n",
    "\n",
    "ax.set_xlabel(\"Predicted Label\")\n",
    "ax.set_ylabel(\"True Label\")\n",
    "\n",
    "plt.title(f\"Confusion Matrix for Patient {target_patient_id}\")\n",
    "plt.show()\n",
    "\n",
    "print(f\"Confidence Threshold used: {maxConf:.2f}\")\n"
   ]
  },
  {
   "cell_type": "code",
   "execution_count": null,
   "id": "84324825",
   "metadata": {
    "papermill": {
     "duration": 0.003052,
     "end_time": "2025-04-12T09:54:24.378667",
     "exception": false,
     "start_time": "2025-04-12T09:54:24.375615",
     "status": "completed"
    },
    "tags": []
   },
   "outputs": [],
   "source": []
  }
 ],
 "metadata": {
  "kaggle": {
   "accelerator": "gpu",
   "dataSources": [
    {
     "datasetId": 6975992,
     "sourceId": 11176910,
     "sourceType": "datasetVersion"
    },
    {
     "datasetId": 6976452,
     "sourceId": 11177520,
     "sourceType": "datasetVersion"
    },
    {
     "datasetId": 6984390,
     "sourceId": 11188224,
     "sourceType": "datasetVersion"
    },
    {
     "datasetId": 6976128,
     "sourceId": 11177092,
     "sourceType": "datasetVersion"
    }
   ],
   "dockerImageVersionId": 31011,
   "isGpuEnabled": true,
   "isInternetEnabled": true,
   "language": "python",
   "sourceType": "notebook"
  },
  "kernelspec": {
   "display_name": "Python 3",
   "language": "python",
   "name": "python3"
  },
  "language_info": {
   "codemirror_mode": {
    "name": "ipython",
    "version": 3
   },
   "file_extension": ".py",
   "mimetype": "text/x-python",
   "name": "python",
   "nbconvert_exporter": "python",
   "pygments_lexer": "ipython3",
   "version": "3.11.11"
  },
  "papermill": {
   "default_parameters": {},
   "duration": 34.245437,
   "end_time": "2025-04-12T09:54:26.614921",
   "environment_variables": {},
   "exception": null,
   "input_path": "__notebook__.ipynb",
   "output_path": "__notebook__.ipynb",
   "parameters": {},
   "start_time": "2025-04-12T09:53:52.369484",
   "version": "2.6.0"
  }
 },
 "nbformat": 4,
 "nbformat_minor": 5
}
